{
 "cells": [
  {
   "cell_type": "markdown",
   "metadata": {},
   "source": [
    "# Data Visualization with Python\n",
    "\n",
    "The first thing we need to do is install the necesssary Python libraries - this is straightforward using PIP (Python's package manager). Run this code block to install them. If you get a message, 'Requirement already satisfied', you can move on to the next section.\n",
    "\n",
    "To run the code, place the cursor in the following code block and select 'Run' from the menu above."
   ]
  },
  {
   "cell_type": "code",
   "execution_count": null,
   "metadata": {},
   "outputs": [],
   "source": [
    "!pip install wordcloud\n",
    "!pip install nltk\n",
    "!pip install matplotlib\n",
    "!pip install pandas\n",
    "\n",
    "import nltk\n",
    "nltk.download('stopwords')\n",
    "nltk.download('punkt') "
   ]
  },
  {
   "cell_type": "markdown",
   "metadata": {},
   "source": [
    "# Scatter Plots\n",
    "\n",
    "We will create a basic scatter plot using the a csv file containing counts of books by genre.\n",
    "\n",
    "Download the following file to your computer.\n",
    "\n",
    "https://digital-exploits.edina.ac.uk/visualize/files/books.csv\n",
    "\n",
    "Right-click the link and select 'save as..'\n",
    "\n",
    "Once the file has been saved, go back to the Noteable home tab in the browser.\n",
    "\n",
    "    Select 'Upload' from the top right of the page.\n",
    "    Browse to the file.\n",
    "    Click 'Select'\n",
    "    Click on the blue 'Upload' button\n",
    "\n",
    "The file is now available to be used in Noteable\n",
    "\n",
    "Run the following code to create a scatter plot"
   ]
  },
  {
   "cell_type": "code",
   "execution_count": null,
   "metadata": {},
   "outputs": [],
   "source": [
    "import pandas as pd\n",
    "import matplotlib.pyplot as plt\n",
    "csv_file='books.csv' \n",
    "data = pd.read_csv(csv_file)\n",
    "\n",
    "Books = data[\"TotalBooks\"]\n",
    "Genre = data[\"Genre\"]\n",
    "\n",
    "x=[]\n",
    "y=[]\n",
    "\n",
    "x=list(Genre)\n",
    "y=list(Books)\n",
    "\n",
    "plt.scatter(x,y)\n",
    "plt.xlabel('Genre')\n",
    "plt.ylabel('Total Books')\n",
    "plt.title('Data')\n",
    "plt.show()\n"
   ]
  },
  {
   "cell_type": "markdown",
   "metadata": {},
   "source": [
    "# Bar Chart\n",
    "\n",
    "We can use the books.csv file to create a Bar Chart.\n",
    "\n",
    "Run the next code block to create a Bar Chart"
   ]
  },
  {
   "cell_type": "code",
   "execution_count": null,
   "metadata": {},
   "outputs": [],
   "source": [
    "import pandas as pd\n",
    "import matplotlib.pyplot as plt\n",
    "csv_file='books.csv' \n",
    "data = pd.read_csv(csv_file)\n",
    "\n",
    "Books = data[\"TotalBooks\"]\n",
    "Genre = data[\"Genre\"]\n",
    "\n",
    "x=[]\n",
    "y=[]\n",
    "\n",
    "x=list(Genre)\n",
    "y=list(Books)\n",
    "\n",
    "plt.bar(x,y)\n",
    "plt.rcParams[\"figure.figsize\"] = (12,8)\n",
    "plt.xlabel('Genre')\n",
    "plt.ylabel('Total Books')\n",
    "plt.title('Data')\n",
    "plt.show()"
   ]
  },
  {
   "cell_type": "markdown",
   "metadata": {},
   "source": [
    "# Pie Chart\n",
    "\n",
    "Download the following file to your computer.\n",
    "\n",
    "https://digital-exploits.edina.ac.uk/visualize/files/book-data.csv\n",
    "\n",
    "Once downloaded, upload to Noteable.\n",
    "\n",
    "If you examine the file you will see it is the books.csv file with the column headers removed.\n",
    "\n",
    "Run the next code block to create a Pie Chart"
   ]
  },
  {
   "cell_type": "code",
   "execution_count": null,
   "metadata": {},
   "outputs": [],
   "source": [
    "import matplotlib.pyplot as plt\n",
    "import csv\n",
    "  \n",
    "Subjects = []\n",
    "Scores = []\n",
    "  \n",
    "with open('book-data.csv', 'r') as csvfile:\n",
    "    lines = csv.reader(csvfile, delimiter = ',')\n",
    "    for row in lines:\n",
    "        Subjects.append(row[0])\n",
    "        Scores.append(int(row[1]))\n",
    "\n",
    "plt.rcParams[\"figure.figsize\"] = (12,8)\n",
    "plt.pie(Scores,labels = Subjects,autopct = '%.2f%%')\n",
    "plt.title('Books by Genre', fontsize = 20)\n",
    "plt.show()"
   ]
  },
  {
   "cell_type": "markdown",
   "metadata": {},
   "source": [
    "# Line Chart\n",
    "\n",
    "Download the following file to your computer.\n",
    "\n",
    "https://digital-exploits.edina.ac.uk/visualize/files/weather.csv\n",
    "\n",
    "Once downloaded, upload to Noteable.\n",
    "\n",
    "This file contains date-related data so displaying as a line graph is appropriate.\n",
    "\n",
    "Run the next code block to create the chart."
   ]
  },
  {
   "cell_type": "code",
   "execution_count": null,
   "metadata": {},
   "outputs": [],
   "source": [
    "import matplotlib.pyplot as plt\n",
    "import csv\n",
    "  \n",
    "x = []\n",
    "y = []\n",
    "  \n",
    "with open('weather.csv','r') as csvfile:\n",
    "    lines = csv.reader(csvfile, delimiter=',')\n",
    "    for row in lines:\n",
    "        x.append(row[0])\n",
    "        y.append(int(row[1]))\n",
    "  \n",
    "plt.plot(x, y, color = 'g', linestyle = 'dashed',\n",
    "         marker = 'o',label = \"Weather Data\")\n",
    "\n",
    "\n",
    "  \n",
    "plt.xticks(rotation = 30)\n",
    "plt.xlabel('Date')\n",
    "plt.ylabel('Temperature(°C)')\n",
    "plt.title('Weather Report', fontsize = 20)\n",
    "plt.rcParams[\"figure.figsize\"] = (12,8)\n",
    "plt.grid()\n",
    "plt.legend()\n",
    "plt.show()"
   ]
  },
  {
   "cell_type": "markdown",
   "metadata": {},
   "source": [
    "# Creating a Word Frequency Chart from a text file\n",
    "\n",
    "Download the following file to your computer.\n",
    "\n",
    "https://digital-exploits.edina.ac.uk/visualize/files/darwin-origin.txt (The origin of Species by Charles Darwin)\n",
    "\n",
    "Once downloaded, upload to Noteable.\n",
    "\n",
    "The following code will create a frequency list of the most common terms and display it as a Bar Chart.\n",
    "\n",
    "Try replacing darwin-origin.txt by uploading your own text file (replace the 'source_file' variable on line 8 to reflect your filename)"
   ]
  },
  {
   "cell_type": "code",
   "execution_count": null,
   "metadata": {},
   "outputs": [],
   "source": [
    "from collections import Counter\n",
    "import numpy as np\n",
    "import matplotlib.pyplot as plt\n",
    "import re\n",
    "import nltk\n",
    "from nltk.tokenize import word_tokenize\n",
    "from nltk.corpus import stopwords\n",
    "\n",
    "stop_words=set(stopwords.words(\"english\")) # Get a list of common words to remove from text\n",
    "\n",
    "source_file = open(\"darwin-origin.txt\") # open file\n",
    "\n",
    "txt = source_file.read()          # add file contents to variable\n",
    "txt = txt.lower()  # lower case text\n",
    "txt = re.sub(r'[^\\w\\s]','',txt)  #remove punctuation\n",
    "\n",
    "tokenized_txt=word_tokenize(txt) # split text into separate words\n",
    "\n",
    "filtered_words=[]\n",
    "for w in tokenized_txt:\n",
    "    if w not in stop_words:\n",
    "        filtered_words.append(w)\n",
    "\n",
    "counts = dict(Counter(filtered_words).most_common(10))\n",
    "\n",
    "labels, values = zip(*counts.items())\n",
    "\n",
    "# sort your values in descending order\n",
    "indSort = np.argsort(values)[::-1]\n",
    "\n",
    "# rearrange your data\n",
    "labels = np.array(labels)[indSort]\n",
    "values = np.array(values)[indSort]\n",
    "\n",
    "indexes = np.arange(len(labels))\n",
    "\n",
    "bar_width=0.25\n",
    "plt.rcParams[\"figure.figsize\"] = (12,6)\n",
    "plt.bar(indexes, values)\n",
    "\n",
    "# add labels\n",
    "plt.xticks(indexes + bar_width, labels)\n",
    "plt.show()"
   ]
  },
  {
   "cell_type": "markdown",
   "metadata": {},
   "source": [
    "# Creating a Wordcloud from a text file\n",
    "\n",
    "Again, using The origin of Species by Charles Darwin, or your own text file\n",
    "\n",
    "The following code will create a frequency list of the most common terms and display it as a Wordcloud. \n"
   ]
  },
  {
   "cell_type": "code",
   "execution_count": null,
   "metadata": {},
   "outputs": [],
   "source": [
    "import re\n",
    "import wordcloud, string\n",
    "from nltk.tokenize import word_tokenize\n",
    "from nltk.corpus import stopwords\n",
    "\n",
    "stop_words= stopwords.words(\"english\") # Get a list of common words to remove from text\n",
    "\n",
    "source_file = open(\"darwin-origin.txt\") # open file\n",
    "txt = source_file.read()          # add file contents to variable\n",
    "txt = txt.lower()  # lower case text\n",
    "txt = re.sub(r'[^\\w\\s]','',txt)  #remove punctuation\n",
    "\n",
    "tokenized_txt=word_tokenize(txt) # split text into separate words\n",
    "\n",
    "filtered_words=[] # Create an empty list\n",
    "\n",
    "for w in tokenized_txt:\n",
    "    if w not in stop_words: # Remove common words\n",
    "        filtered_words.append(w) # Append word to list\n",
    "        \n",
    "\n",
    "txt = ' '.join(filtered_words).lower() # Join words back together\n",
    "\n",
    "out_file = open(\"text.txt\",\"w\") \n",
    "\n",
    "out_file.write(txt)\n",
    "\n",
    "\"\"\"\n",
    "Generating a  wordcloud from the input text.\n",
    "\"\"\"\n",
    "\n",
    "import os\n",
    "from wordcloud import WordCloud\n",
    "\n",
    "# Read the whole text.\n",
    "text = open('text.txt').read()\n",
    "\n",
    "# Generate a word cloud image\n",
    "wordcloud = WordCloud().generate(text)\n",
    "\n",
    "# Display the generated image:\n",
    "import matplotlib.pyplot as plt\n",
    "%matplotlib inline\n",
    "\n",
    "wordcloud = WordCloud(width=640, height=480, max_font_size=80,colormap=\"Greens\", min_font_size=12).generate(text)\n",
    "plt.figure(figsize=(12,8))\n",
    "plt.imshow(wordcloud, interpolation=\"bilinear\")\n",
    "plt.axis(\"off\")\n",
    "plt.margins(x=0, y=0)\n",
    "plt.show()\n"
   ]
  },
  {
   "cell_type": "markdown",
   "metadata": {},
   "source": [
    "# Lexical Dispersion Plot\n",
    "\n",
    "A lexical dispersion plot shows where keywords occur in a a text indicating position and density.\n",
    "\n",
    "Try changing the keywords (you can use more than two) and try using your own text file."
   ]
  },
  {
   "cell_type": "code",
   "execution_count": null,
   "metadata": {},
   "outputs": [],
   "source": [
    "import os\n",
    "import nltk\n",
    "\n",
    "input_file=open('darwin-origin.txt').read()\n",
    "\n",
    "tokens=nltk.word_tokenize(input_file)\n",
    "\n",
    "\n",
    "text=nltk.Text(tokens)\n",
    "\n",
    "text.dispersion_plot([\"plant\",\"fish\"]) # experiment by changing these two terms\n"
   ]
  },
  {
   "cell_type": "markdown",
   "metadata": {},
   "source": [
    "## Thank you for using this Notebook"
   ]
  },
  {
   "cell_type": "code",
   "execution_count": null,
   "metadata": {},
   "outputs": [],
   "source": []
  }
 ],
 "metadata": {
  "kernelspec": {
   "display_name": "Python 3",
   "language": "python",
   "name": "python3"
  },
  "language_info": {
   "codemirror_mode": {
    "name": "ipython",
    "version": 3
   },
   "file_extension": ".py",
   "mimetype": "text/x-python",
   "name": "python",
   "nbconvert_exporter": "python",
   "pygments_lexer": "ipython3",
   "version": "3.9.2"
  }
 },
 "nbformat": 4,
 "nbformat_minor": 4
}
